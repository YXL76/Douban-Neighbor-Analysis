{
 "cells": [
  {
   "cell_type": "markdown",
   "metadata": {},
   "source": [
    "# 豆瓣用户友邻数据分析\n",
    "## Part1 数据获取\n",
    "<font color='red'>*若已有数据集可以跳过此部分，从Part2开始*</font>\n",
    "### 获取目标用户友邻列表\n",
    "- 爬取用户首页面友邻页面\n",
    "\n",
    "  - 从settings中导入目标用户的`uid`\n",
    "  - 查看豆瓣的友邻页面需要登陆账号，所以使用 cookie 模拟登录"
   ]
  },
  {
   "cell_type": "code",
   "execution_count": 1,
   "metadata": {},
   "outputs": [
    {
     "name": "stdout",
     "output_type": "stream",
     "text": [
      "获取成功\n"
     ]
    }
   ],
   "source": [
    "import requests\n",
    "from bs4 import BeautifulSoup\n",
    "\n",
    "from settings import user_agent\n",
    "from settings import cookie\n",
    "from settings import target_user\n",
    "\n",
    "session = requests.Session()\n",
    "\n",
    "url = 'https://www.douban.com/people/' + target_user + '/rev_contacts'\n",
    "headers = {\n",
    "    'User-Agent': user_agent,\n",
    "    'Cookie': cookie,\n",
    "}\n",
    "\n",
    "response = session.get(url=url, headers=headers)\n",
    "if response.status_code != 200:\n",
    "    print('获取失败，请检查cookie, uid')\n",
    "soup = BeautifulSoup(response.text, 'lxml')\n",
    "# print(soup)\n",
    "print('获取成功')\n"
   ]
  },
  {
   "cell_type": "markdown",
   "metadata": {},
   "source": [
    "- 从爬取的页面中获取用户的友邻总数"
   ]
  },
  {
   "cell_type": "code",
   "execution_count": 2,
   "metadata": {},
   "outputs": [
    {
     "ename": "ValueError",
     "evalue": "invalid literal for int() with base 10: ''",
     "output_type": "error",
     "traceback": [
      "\u001b[1;31m---------------------------------------------------------------------------\u001b[0m",
      "\u001b[1;31mValueError\u001b[0m                                Traceback (most recent call last)",
      "\u001b[1;32m<ipython-input-2-21a6d2052312>\u001b[0m in \u001b[0;36m<module>\u001b[1;34m\u001b[0m\n\u001b[0;32m      6\u001b[0m \u001b[1;32mwhile\u001b[0m \u001b[1;34m'0'\u001b[0m \u001b[1;33m<\u001b[0m \u001b[0mnum\u001b[0m\u001b[1;33m[\u001b[0m\u001b[0mlength\u001b[0m\u001b[1;33m]\u001b[0m \u001b[1;33m<\u001b[0m \u001b[1;34m'9'\u001b[0m\u001b[1;33m:\u001b[0m\u001b[1;33m\u001b[0m\u001b[1;33m\u001b[0m\u001b[0m\n\u001b[0;32m      7\u001b[0m     \u001b[0mlength\u001b[0m \u001b[1;33m-=\u001b[0m \u001b[1;36m1\u001b[0m\u001b[1;33m\u001b[0m\u001b[1;33m\u001b[0m\u001b[0m\n\u001b[1;32m----> 8\u001b[1;33m \u001b[0mnum\u001b[0m \u001b[1;33m=\u001b[0m \u001b[0mint\u001b[0m\u001b[1;33m(\u001b[0m\u001b[0mnum\u001b[0m\u001b[1;33m[\u001b[0m\u001b[0mlength\u001b[0m \u001b[1;33m+\u001b[0m \u001b[1;36m1\u001b[0m\u001b[1;33m:\u001b[0m\u001b[0mlen\u001b[0m\u001b[1;33m(\u001b[0m\u001b[0mnum\u001b[0m\u001b[1;33m)\u001b[0m \u001b[1;33m-\u001b[0m \u001b[1;36m1\u001b[0m\u001b[1;33m]\u001b[0m\u001b[1;33m)\u001b[0m\u001b[1;33m\u001b[0m\u001b[1;33m\u001b[0m\u001b[0m\n\u001b[0m\u001b[0;32m      9\u001b[0m \u001b[0mprint\u001b[0m\u001b[1;33m(\u001b[0m\u001b[0mnum\u001b[0m\u001b[1;33m)\u001b[0m\u001b[1;33m\u001b[0m\u001b[1;33m\u001b[0m\u001b[0m\n",
      "\u001b[1;31mValueError\u001b[0m: invalid literal for int() with base 10: ''"
     ]
    }
   ],
   "source": [
    "# css 选择器\n",
    "num = soup.select('#db-usr-profile > div.info > h1')\n",
    "num = BeautifulSoup(str(num[0]), 'lxml').string\n",
    "# 数字从倒数第二个字符开始\n",
    "length = len(num) - 2\n",
    "while '0' <= num[length] <= '9':\n",
    "    length -= 1\n",
    "num = int(num[length + 1:len(num) - 1])\n",
    "print(num)\n"
   ]
  },
  {
   "cell_type": "markdown",
   "metadata": {},
   "source": [
    "- 爬取所有友邻列表页面，获取所有友邻的`uid`，保存至本地"
   ]
  },
  {
   "cell_type": "code",
   "execution_count": null,
   "metadata": {},
   "outputs": [],
   "source": [
    "from settings import uid_file\n",
    "\n",
    "with open(uid_file, \"w\") as file:\n",
    "    # 每页显示最多 70 个友邻\n",
    "    for i in range(0, num, 70):\n",
    "        current_url = url + '?start=' + str(i)\n",
    "        # print(current_url)\n",
    "        response = session.get(url=current_url, headers=headers)\n",
    "        soup = BeautifulSoup(response.text, 'lxml')\n",
    "        peoples = soup.select('#content > div > div.article > dl > dt > a')\n",
    "        for people in peoples:\n",
    "            uid = (BeautifulSoup(str(people), 'lxml').a['href'])[30:-1]\n",
    "            print(uid)\n",
    "            file.write(uid + '\\n')\n"
   ]
  },
  {
   "cell_type": "markdown",
   "metadata": {},
   "source": [
    "### 获取友邻用户数据\n",
    "- 通过[https://m.douban.com/people/uid/subject_profile](https://m.douban.com/people/uid/subject_profile)获取账户信息\n",
    "- 通过[https://m.douban.com/people/uid/movie_charts](https://m.douban.com/people/uid/movie_charts)获取观影信息"
   ]
  },
  {
   "cell_type": "code",
   "execution_count": null,
   "metadata": {},
   "outputs": [],
   "source": [
    "from json import loads\n",
    "\n",
    "\n",
    "def get_movie_info(nuid=''):\n",
    "    nurl = 'https://m.douban.com/rexxar/api/v2/user/' + nuid + '/collection_stats?type=movie&for_mobile=1&ck=5Kvd'\n",
    "    nreferer = 'https://m.douban.com/people/' + nuid + '/movie_charts'\n",
    "    nheaders = {\n",
    "        'Referer': nreferer,\n",
    "        'User-Agent': user_agent,\n",
    "    }\n",
    "    nresponse = session.get(url=nurl, headers=nheaders)\n",
    "    # 返回的数据为 json 格式，使用 loads 解析\n",
    "    ndecoded = loads(nresponse.text)\n",
    "    # print(decoded)\n",
    "    nrow = []\n",
    "    # 观影数\n",
    "    try:\n",
    "        nrow.append(ndecoded['total_collections'])\n",
    "    except:\n",
    "        nrow.append('')\n",
    "    # 观看时间\n",
    "    try:\n",
    "        nrow.append(int(ndecoded['total_spent']))\n",
    "    except:\n",
    "        nrow.append('')\n",
    "    # 消费\n",
    "    try:\n",
    "        nrow.append(int(ndecoded['total_cost']))\n",
    "    except:\n",
    "        nrow.append('')\n",
    "    # 平均每周观看时间\n",
    "    try:\n",
    "        nrow.append(round(ndecoded['weekly_avg'], 1))\n",
    "    except:\n",
    "        nrow.append('')\n",
    "    # 以下两项为最常观看地区\n",
    "    try:\n",
    "        nrow.append(ndecoded['countries'][0]['name'])\n",
    "    except:\n",
    "        nrow.append('')\n",
    "    try:\n",
    "        nrow.append(ndecoded['countries'][1]['name'])\n",
    "    except:\n",
    "        nrow.append('')\n",
    "    # 以下三项为最常观看类型\n",
    "    try:\n",
    "        nrow.append(ndecoded['genres'][0]['name'])\n",
    "    except:\n",
    "        nrow.append('')\n",
    "    try:\n",
    "        nrow.append(ndecoded['genres'][1]['name'])\n",
    "    except:\n",
    "        nrow.append('')\n",
    "    try:\n",
    "        nrow.append(ndecoded['genres'][2]['name'])\n",
    "    except:\n",
    "        nrow.append('')\n",
    "    # print(row)\n",
    "    return nrow\n",
    "\n",
    "\n",
    "def get_user_info(nuid=''):\n",
    "    nurl = 'https://m.douban.com/rexxar/api/v2/user/' + nuid + '/archives_summary?for_mobile=1&ck=5Kvd'\n",
    "    nreferer = 'https://m.douban.com/people/' + nuid + '/subject_profile'\n",
    "    nheaders = {\n",
    "        'Referer': nreferer,\n",
    "        'User-Agent': user_agent,\n",
    "    }\n",
    "    nresponse = session.get(url=nurl, headers=nheaders)\n",
    "    # 返回的数据为 json 格式，使用 loads 解析\n",
    "    ndecoded = loads(nresponse.text)\n",
    "    # print(decoded)\n",
    "    nrow = []\n",
    "    # 用户所在地区\n",
    "    try:\n",
    "        nrow.append(ndecoded['user']['loc']['name'])\n",
    "    except:\n",
    "        nrow.append('')\n",
    "    # 用户广播数\n",
    "    try:\n",
    "        nrow.append(ndecoded['user']['statuses_count'])\n",
    "    except:\n",
    "        nrow.append('')\n",
    "    # 用户注册时间\n",
    "    try:\n",
    "        nrow.append(ndecoded['user']['reg_time'][:4])\n",
    "    except:\n",
    "        nrow.append('')\n",
    "    # 用户性别\n",
    "    try:\n",
    "        nrow.append(ndecoded['user']['gender'])\n",
    "    except:\n",
    "        nrow.append('')\n",
    "    # print(row)\n",
    "    return nrow\n",
    "\n",
    "\n",
    "def get_info(nuid=''):\n",
    "    nrow = []\n",
    "    nrow += get_user_info(nuid)\n",
    "    nrow += get_movie_info(nuid)\n",
    "    print(nrow)\n",
    "    return nrow\n"
   ]
  },
  {
   "cell_type": "markdown",
   "metadata": {},
   "source": [
    "- 读取本地`uid`文件，获取所有友邻数据，写入数据集"
   ]
  },
  {
   "cell_type": "code",
   "execution_count": null,
   "metadata": {},
   "outputs": [],
   "source": [
    "import csv\n",
    "from time import sleep\n",
    "\n",
    "from settings import csv_title\n",
    "from settings import dataset_file\n",
    "\n",
    "with open(uid_file) as infile:\n",
    "    with open(dataset_file, 'w', encoding='utf-8', newline='') as outfile:\n",
    "        csv_file = csv.writer(outfile, dialect='excel')\n",
    "        csv_file.writerow(csv_title)\n",
    "        for line in infile:\n",
    "            uid = line[:-1]\n",
    "            # print(uid)\n",
    "            csv_file.writerow(get_info(uid))\n",
    "            sleep(2)\n"
   ]
  }
 ],
 "metadata": {
  "kernelspec": {
   "display_name": "Python 3",
   "language": "python",
   "name": "python3"
  },
  "language_info": {
   "codemirror_mode": {
    "name": "ipython",
    "version": 3
   },
   "file_extension": ".py",
   "mimetype": "text/x-python",
   "name": "python",
   "nbconvert_exporter": "python",
   "pygments_lexer": "ipython3",
   "version": "3.7.3"
  }
 },
 "nbformat": 4,
 "nbformat_minor": 2
}
